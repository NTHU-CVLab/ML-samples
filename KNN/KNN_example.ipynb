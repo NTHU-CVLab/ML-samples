{
 "cells": [
  {
   "cell_type": "markdown",
   "metadata": {},
   "source": [
    "# KNN Example - MNIST\n",
    "### Recognize the images of hand-written digits in MNIST dataset"
   ]
  },
  {
   "cell_type": "code",
   "execution_count": 1,
   "metadata": {
    "scrolled": true
   },
   "outputs": [
    {
     "name": "stderr",
     "output_type": "stream",
     "text": [
      "C:\\Users\\doris\\Anaconda3\\lib\\site-packages\\sklearn\\cross_validation.py:44: DeprecationWarning: This module was deprecated in version 0.18 in favor of the model_selection module into which all the refactored classes and functions are moved. Also note that the interface of the new CV iterators are different from that of this module. This module will be removed in 0.20.\n",
      "  \"This module will be removed in 0.20.\", DeprecationWarning)\n"
     ]
    }
   ],
   "source": [
    "import matplotlib.pyplot as plt\n",
    "from sklearn import datasets, neighbors, metrics\n",
    "from sklearn.cross_validation import train_test_split"
   ]
  },
  {
   "cell_type": "markdown",
   "metadata": {},
   "source": [
    "### Step 1: Loading data"
   ]
  },
  {
   "cell_type": "code",
   "execution_count": 2,
   "metadata": {},
   "outputs": [
    {
     "data": {
      "image/png": "[encoded data removed]",
      "text/plain": [
       "<matplotlib.figure.Figure at 0x2fb04a5cf28>"
      ]
     },
     "metadata": {},
     "output_type": "display_data"
    }
   ],
   "source": [
    "# Load MNIST data\n",
    "digits = datasets.load_digits()\n",
    "\n",
    "# show the first 10 images\n",
    "fig, ax = plt.subplots(2, 5, subplot_kw=dict(xticks=[], yticks=[]))\n",
    "for j in range(5):\n",
    "    for i in range(2):\n",
    "        index = i*5+j\n",
    "        im = ax[i, j].imshow(digits.images[index], cmap=plt.cm.binary, interpolation='nearest')\n",
    "        ax[i, j].set_title('%i\\n'%index)\n",
    "        im.set_clim(0, 16)\n",
    "plt.show()"
   ]
  },
  {
   "cell_type": "markdown",
   "metadata": {},
   "source": [
    "### Step 2: Data preparation "
   ]
  },
  {
   "cell_type": "code",
   "execution_count": 3,
   "metadata": {},
   "outputs": [],
   "source": [
    "mnist_label = digits.target\n",
    "mnist_image = digits.images\n",
    "\n",
    "# reshape the images into arrays\n",
    "mnist_data = digits.images.reshape((len(mnist_image), -1))\n",
    "\n",
    "# split training and testing data\n",
    "X_train, X_test, y_train, y_test, train_images, test_images = train_test_split(mnist_data, mnist_label, mnist_image, test_size = 0.25)"
   ]
  },
  {
   "cell_type": "markdown",
   "metadata": {},
   "source": [
    "### Step 3: Finding the best K"
   ]
  },
  {
   "cell_type": "code",
   "execution_count": 4,
   "metadata": {},
   "outputs": [
    {
     "name": "stdout",
     "output_type": "stream",
     "text": [
      "[1, 3, 5, 7, 9, 11, 13, 15, 17, 19, 21, 23, 25, 27, 29, 31, 33, 35, 37, 39, 41, 43, 45, 47, 49]\n",
      "The optimal number of neighbors is 3\n"
     ]
    },
    {
     "data": {
      "image/png": "[encoded data removed]",
      "text/plain": [
       "<matplotlib.figure.Figure at 0x2fb04cdce48>"
      ]
     },
     "metadata": {},
     "output_type": "display_data"
    }
   ],
   "source": [
    "# creating odd list of K for KNN\n",
    "myList = list(range(1,50))\n",
    "\n",
    "# subsetting just the odd ones\n",
    "neighbor = list(filter(lambda x: x % 2 != 0, myList))\n",
    "\n",
    "print(neighbor)\n",
    "\n",
    "# empty list that will hold cv scores\n",
    "cv_scores = []\n",
    "\n",
    "import sklearn.cross_validation as cross_validation\n",
    "\n",
    "# perform 10-fold cross validation\n",
    "for k in neighbor:\n",
    "    knn = neighbors.KNeighborsClassifier(n_neighbors=k)\n",
    "    scores = cross_validation.cross_val_score(knn, X_test, y_test, cv=10, scoring='accuracy')\n",
    "    cv_scores.append(scores.mean()*100)\n",
    "\n",
    "# determining best k\n",
    "optimal_k = neighbor[cv_scores.index(max(cv_scores))]\n",
    "print (\"The optimal number of neighbors is %d\" % optimal_k)\n",
    "\n",
    "# plot misclassification error vs k\n",
    "plt.plot(neighbor, cv_scores)\n",
    "plt.xlabel('Number of Neighbors K')\n",
    "plt.ylabel('Accuracy')\n",
    "plt.show()"
   ]
  },
  {
   "cell_type": "markdown",
   "metadata": {},
   "source": [
    "### Step 4: KNN training and testing"
   ]
  },
  {
   "cell_type": "code",
   "execution_count": 5,
   "metadata": {},
   "outputs": [
    {
     "name": "stdout",
     "output_type": "stream",
     "text": [
      "accuracy:  0.986666666667\n"
     ]
    }
   ],
   "source": [
    "# KNN classifier declaration\n",
    "knn = neighbors.KNeighborsClassifier(n_neighbors = optimal_k)\n",
    "\n",
    "# Fit the model using X_train as training data and y_train as target values\n",
    "knn.fit(X_train, y_train)\n",
    "\n",
    "# Predict the class labels for the testing data\n",
    "y_pred = knn.predict(X_test)\n",
    "\n",
    "# Compute accuracy of the classifier\n",
    "accuracy = metrics.accuracy_score(y_test, y_pred)\n",
    "\n",
    "print('accuracy: ',accuracy)"
   ]
  },
  {
   "cell_type": "markdown",
   "metadata": {},
   "source": [
    "# KNN Aplication - NASA Aircrafts (Try yourself!)\n",
    "\n",
    "### Given the aircraft engines operation and failure events history from NASA, can we use KNN to predict whether an in-service engine fails in 60 cycles? "
   ]
  },
  {
   "cell_type": "code",
   "execution_count": 6,
   "metadata": {
    "collapsed": true
   },
   "outputs": [],
   "source": [
    "import numpy as np\n",
    "import pandas as pd\n",
    "from pandas import DataFrame\n",
    "from sklearn import neighbors, metrics"
   ]
  },
  {
   "cell_type": "markdown",
   "metadata": {},
   "source": [
    "### Step 1: Data preparation\n",
    "#### training data link:  https://drive.google.com/file/d/1hzQUEvjyDe9m30vp7S0ABh-ZtQtjfsN-/view?usp=sharing<br /> testing data link:  https://drive.google.com/file/d/1eQoVF9vGtCx75qy2sFrhj9gVA5GXYLL6/view?usp=sharing"
   ]
  },
  {
   "cell_type": "code",
   "execution_count": 7,
   "metadata": {},
   "outputs": [],
   "source": [
    "# Read data from the given .csv files\n",
    "train_file = pd.read_csv('train.csv')\n",
    "valid_file = pd.read_csv('valid.csv')\n",
    "\n",
    "# Pick out the needed data columns\n",
    "train_df = train_file[train_file.columns[1:27]]\n",
    "valid_df = valid_file[valid_file.columns[1:27]]\n",
    "\n",
    "# Split the training data and RUL\n",
    "# RUL: Remaining Useful Life\n",
    "X_train, train_RUL = train_df.iloc[:,0:25], train_df.iloc[:,25]\n",
    "X_valid, valid_RUL = valid_df.iloc[:,0:25], valid_df.iloc[:,25]\n",
    "\n",
    "# Trun the RUL into target values (if RUL>=60->0, else->1)   (hint: np.where)\n",
    "y_train = np.where(train_RUL<60,1,0)\n",
    "y_valid = np.where(valid_RUL<60,1,0)\n"
   ]
  },
  {
   "cell_type": "markdown",
   "metadata": {},
   "source": [
    "### Step 2: KNN training and testing"
   ]
  },
  {
   "cell_type": "code",
   "execution_count": 8,
   "metadata": {},
   "outputs": [
    {
     "name": "stdout",
     "output_type": "stream",
     "text": [
      "accuracy:  0.94242516799\n"
     ]
    }
   ],
   "source": [
    "# KNN classifier declaration\n",
    "knn = neighbors.KNeighborsClassifier(n_neighbors=8)\n",
    "\n",
    "# Fit the model using X_train as training data and y_train as target values\n",
    "knn.fit(X_train,y_train)\n",
    "\n",
    "# Predict the class labels for the testing data\n",
    "y_pred = knn.predict(X_valid)\n",
    "\n",
    "# Compute accuracy of the classifier\n",
    "accuracy = metrics.accuracy_score(y_valid, y_pred)\n",
    "print('accuracy: ',accuracy)"
   ]
  },
  {
   "cell_type": "markdown",
   "metadata": {},
   "source": [
    "### Step 3: Save the predicted results"
   ]
  },
  {
   "cell_type": "code",
   "execution_count": 9,
   "metadata": {},
   "outputs": [
    {
     "name": "stdout",
     "output_type": "stream",
     "text": [
      "output file saved\n"
     ]
    }
   ],
   "source": [
    "valid_file['valid_RUL'] = y_valid\n",
    "valid_file['pred'] = y_pred\n",
    "valid_file.to_csv('predicted_output.csv')\n",
    "print('output file saved')"
   ]
  },
  {
   "cell_type": "code",
   "execution_count": null,
   "metadata": {
    "collapsed": true
   },
   "outputs": [],
   "source": []
  }
 ],
 "metadata": {
  "kernelspec": {
   "display_name": "Python 3",
   "language": "python",
   "name": "python3"
  },
  "language_info": {
   "codemirror_mode": {
    "name": "ipython",
    "version": 3
   },
   "file_extension": ".py",
   "mimetype": "text/x-python",
   "name": "python",
   "nbconvert_exporter": "python",
   "pygments_lexer": "ipython3",
   "version": "3.6.3"
  }
 },
 "nbformat": 4,
 "nbformat_minor": 2
}
