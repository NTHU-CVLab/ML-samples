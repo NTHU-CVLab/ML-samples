{
 "cells": [
  {
   "cell_type": "markdown",
   "metadata": {},
   "source": [
    "# KNN Example - MNIST\n",
    "### Recognize the images of hand-written digits in MNIST dataset"
   ]
  },
  {
   "cell_type": "code",
   "execution_count": 1,
   "metadata": {
    "scrolled": true
   },
   "outputs": [
    {
     "name": "stderr",
     "output_type": "stream",
     "text": [
      "C:\\Users\\Doris Lee\\Miniconda3\\lib\\site-packages\\sklearn\\cross_validation.py:41: DeprecationWarning: This module was deprecated in version 0.18 in favor of the model_selection module into which all the refactored classes and functions are moved. Also note that the interface of the new CV iterators are different from that of this module. This module will be removed in 0.20.\n",
      "  \"This module will be removed in 0.20.\", DeprecationWarning)\n"
     ]
    }
   ],
   "source": [
    "import matplotlib.pyplot as plt\n",
    "from sklearn import datasets, neighbors, metrics\n",
    "from sklearn.cross_validation import train_test_split"
   ]
  },
  {
   "cell_type": "markdown",
   "metadata": {},
   "source": [
    "### Step 1: Loading data"
   ]
  },
  {
   "cell_type": "code",
   "execution_count": 2,
   "metadata": {},
   "outputs": [
    {
     "data": {
      "image/png": "[encoded data removed]",
      "text/plain": [
       "<Figure size 432x288 with 10 Axes>"
      ]
     },
     "metadata": {},
     "output_type": "display_data"
    }
   ],
   "source": [
    "# Load MNIST data\n",
    "digits = datasets.load_digits()\n",
    "\n",
    "# show the first 10 images\n",
    "fig, ax = plt.subplots(2, 5, subplot_kw=dict(xticks=[], yticks=[]))\n",
    "for j in range(5):\n",
    "    for i in range(2):\n",
    "        index = i*5+j\n",
    "        im = ax[i, j].imshow(digits.images[index], cmap=plt.cm.binary, interpolation='nearest')\n",
    "        ax[i, j].set_title('%i\\n'%index)\n",
    "        im.set_clim(0, 16)\n",
    "plt.show()"
   ]
  },
  {
   "cell_type": "markdown",
   "metadata": {},
   "source": [
    "### Step 2: Data preparation "
   ]
  },
  {
   "cell_type": "code",
   "execution_count": 3,
   "metadata": {},
   "outputs": [],
   "source": [
    "mnist_label = digits.target\n",
    "mnist_image = digits.images\n",
    "\n",
    "# reshape the images into arrays\n",
    "mnist_data = digits.images.reshape((len(mnist_image), -1))\n",
    "\n",
    "# split training and testing data\n",
    "X_train, X_test, y_train, y_test, train_images, test_images = train_test_split(mnist_data, mnist_label, mnist_image, test_size = 0.25)"
   ]
  },
  {
   "cell_type": "markdown",
   "metadata": {},
   "source": [
    "### Step 3: KNN training and testing"
   ]
  },
  {
   "cell_type": "code",
   "execution_count": 4,
   "metadata": {},
   "outputs": [
    {
     "name": "stdout",
     "output_type": "stream",
     "text": [
      "accuracy:  0.9866666666666667\n"
     ]
    }
   ],
   "source": [
    "# KNN classifier declaration\n",
    "knn = neighbors.KNeighborsClassifier(n_neighbors = 8)\n",
    "\n",
    "# Fit the model using X_train as training data and y_train as target values\n",
    "knn.fit(X_train, y_train)\n",
    "\n",
    "# Predict the class labels for the testing data\n",
    "y_pred = knn.predict(X_test)\n",
    "\n",
    "# Compute accuracy of the classifier\n",
    "accuracy = metrics.accuracy_score(y_test, y_pred)\n",
    "\n",
    "print('accuracy: ',accuracy)"
   ]
  },
  {
   "cell_type": "markdown",
   "metadata": {},
   "source": [
    "# KNN Aplication - NASA Aircrafts\n",
    "\n",
    "### Given the aircraft engines operation and failure events history from NASA, can we use KNN to predict whether an in-service engine fails in 60 cycles? "
   ]
  },
  {
   "cell_type": "code",
   "execution_count": 5,
   "metadata": {},
   "outputs": [],
   "source": [
    "import numpy as np\n",
    "import pandas as pd\n",
    "from pandas import DataFrame\n",
    "from sklearn import neighbors, metrics"
   ]
  },
  {
   "cell_type": "markdown",
   "metadata": {},
   "source": [
    "### Step 1: Data preparation\n",
    "#### training data link:  https://drive.google.com/file/d/1hzQUEvjyDe9m30vp7S0ABh-ZtQtjfsN-/view?usp=sharing<br /> testing data link:  https://drive.google.com/file/d/1eQoVF9vGtCx75qy2sFrhj9gVA5GXYLL6/view?usp=sharing"
   ]
  },
  {
   "cell_type": "code",
   "execution_count": 6,
   "metadata": {},
   "outputs": [],
   "source": [
    "# Read data from the given .csv files\n",
    "train_file = pd.read_csv('train.csv')\n",
    "valid_file = pd.read_csv('valid.csv')\n",
    "\n",
    "# Pick out the needed data columns\n",
    "train_df = train_file[train_file.columns[1:27]]\n",
    "valid_df = valid_file[valid_file.columns[1:27]]\n",
    "\n",
    "# Split the training data and RUL\n",
    "# RUL: Remaining Useful Life\n",
    "X_train, train_RUL = train_df.iloc[:,0:25], train_df.iloc[:,25]\n",
    "X_valid, valid_RUL = valid_df.iloc[:,0:25], valid_df.iloc[:,25]\n",
    "\n",
    "# Trun the RUL into target values (if RUL>=60->0, else->1)\n",
    "y_train = np.where(train_RUL<60,1,0)\n",
    "y_valid = np.where(valid_RUL<60,1,0)"
   ]
  },
  {
   "cell_type": "markdown",
   "metadata": {},
   "source": [
    "### Step 2: KNN training and testing"
   ]
  },
  {
   "cell_type": "code",
   "execution_count": 7,
   "metadata": {},
   "outputs": [
    {
     "name": "stdout",
     "output_type": "stream",
     "text": [
      "accuracy:  0.942425167990226\n"
     ]
    }
   ],
   "source": [
    "# KNN classifier declaration\n",
    "knn = neighbors.KNeighborsClassifier(n_neighbors=8)\n",
    "\n",
    "# Fit the model using X_train as training data and y_train as target values\n",
    "knn.fit(X_train,y_train)\n",
    "\n",
    "# Predict the class labels for the testing data\n",
    "y_pred = knn.predict(X_valid)\n",
    "\n",
    "# Compute accuracy of the classifier\n",
    "accuracy = metrics.accuracy_score(y_valid, y_pred)\n",
    "print('accuracy: ',accuracy)"
   ]
  },
  {
   "cell_type": "markdown",
   "metadata": {},
   "source": [
    "### Step 3: Save the predicted results"
   ]
  },
  {
   "cell_type": "code",
   "execution_count": 8,
   "metadata": {},
   "outputs": [
    {
     "name": "stdout",
     "output_type": "stream",
     "text": [
      "output file saved\n"
     ]
    }
   ],
   "source": [
    "valid_file['valid_RUL'] = valid_RUL\n",
    "valid_file['pred'] = y_pred\n",
    "valid_file.to_csv('predicted_output.csv')\n",
    "print('output file saved')"
   ]
  },
  {
   "cell_type": "code",
   "execution_count": null,
   "metadata": {},
   "outputs": [],
   "source": []
  }
 ],
 "metadata": {
  "kernelspec": {
   "display_name": "Python 3",
   "language": "python",
   "name": "python3"
  },
  "language_info": {
   "codemirror_mode": {
    "name": "ipython",
    "version": 3
   },
   "file_extension": ".py",
   "mimetype": "text/x-python",
   "name": "python",
   "nbconvert_exporter": "python",
   "pygments_lexer": "ipython3",
   "version": "3.6.3"
  }
 },
 "nbformat": 4,
 "nbformat_minor": 2
}
